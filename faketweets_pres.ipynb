{
 "cells": [
  {
   "cell_type": "markdown",
   "metadata": {
    "colab_type": "text",
    "id": "view-in-github"
   },
   "source": [
    "<a href=\"https://colab.research.google.com/github/jbajaj1/faketweets/blob/master/faketweets.ipynb\" target=\"_parent\"><img src=\"https://colab.research.google.com/assets/colab-badge.svg\" alt=\"Open In Colab\"/></a>"
   ]
  },
  {
   "cell_type": "code",
   "execution_count": 11,
   "metadata": {
    "colab": {},
    "colab_type": "code",
    "id": "di9uPiQKYhcT"
   },
   "outputs": [],
   "source": [
    "import torch\n",
    "from sklearn.metrics import confusion_matrix\n",
    "import numpy as np\n",
    "import pandas as pd\n",
    "import torch.nn as nn\n",
    "import torch.utils.data as data\n",
    "import handleTwitterSent as TS\n",
    "from torch.utils.data import TensorDataset, DataLoader"
   ]
  },
  {
   "cell_type": "code",
   "execution_count": 13,
   "metadata": {
    "colab": {
     "base_uri": "https://localhost:8080/",
     "height": 364
    },
    "colab_type": "code",
    "id": "tPK-9ygJZkgr",
    "outputId": "603490b2-e839-4130-e62d-dce64c87285c"
   },
   "outputs": [
    {
     "name": "stdout",
     "output_type": "stream",
     "text": [
      "beiber\n",
      "248\n",
      "25574\n"
     ]
    }
   ],
   "source": [
    "twitterVoc = TS.Vocab(\"twitter\")\n",
    "\n",
    "#Put proper location of file here\n",
    "tokenizedTweets, tokenizedLabels = TS.load_tweets(\"../twitter_sentiment/semeval_train_trimmed.txt\", Voc=twitterVoc, initVoc=True)\n",
    "\n",
    "print(twitterVoc.to_word(4))\n",
    "print(twitterVoc.to_index(\"this\"))\n",
    "\n",
    "print(twitterVoc.num_words)"
   ]
  },
  {
   "cell_type": "code",
   "execution_count": 14,
   "metadata": {
    "colab": {},
    "colab_type": "code",
    "id": "eBC48S6qa65d"
   },
   "outputs": [],
   "source": [
    "ourLSTM = TS.LSTM(twitterVoc.num_words, 64, 64)"
   ]
  },
  {
   "cell_type": "code",
   "execution_count": 17,
   "metadata": {
    "colab": {},
    "colab_type": "code",
    "id": "thQWrw52bRS3"
   },
   "outputs": [
    {
     "name": "stdout",
     "output_type": "stream",
     "text": [
      "Training on epoch 0\n",
      "Training on epoch 1\n",
      "Training on epoch 2\n",
      "Training on epoch 3\n",
      "Training on epoch 4\n",
      "Training on epoch 5\n",
      "Training on epoch 6\n",
      "Training on epoch 7\n",
      "Training on epoch 8\n",
      "Training on epoch 9\n",
      "Training on epoch 10\n",
      "Training on epoch 11\n",
      "Training on epoch 12\n",
      "Training on epoch 13\n",
      "Training on epoch 14\n",
      "Training on epoch 15\n",
      "Training on epoch 16\n",
      "Training on epoch 17\n",
      "Training on epoch 18\n",
      "Training on epoch 19\n",
      "Training on epoch 20\n",
      "Training on epoch 21\n",
      "Training on epoch 22\n",
      "Training on epoch 23\n",
      "Training on epoch 24\n",
      "Training on epoch 25\n",
      "Training on epoch 26\n",
      "Training on epoch 27\n",
      "Training on epoch 28\n",
      "Training on epoch 29\n",
      "Training on epoch 30\n",
      "Training on epoch 31\n",
      "Training on epoch 32\n",
      "Training on epoch 33\n",
      "Training on epoch 34\n",
      "Training on epoch 35\n",
      "Training on epoch 36\n",
      "Training on epoch 37\n",
      "Training on epoch 38\n",
      "Training on epoch 39\n",
      "Training on epoch 40\n",
      "Training on epoch 41\n",
      "Training on epoch 42\n",
      "Training on epoch 43\n",
      "Training on epoch 44\n",
      "Training on epoch 45\n",
      "Training on epoch 46\n",
      "Training on epoch 47\n",
      "Training on epoch 48\n",
      "Training on epoch 49\n",
      "Training on epoch 50\n",
      "Training on epoch 51\n",
      "Training on epoch 52\n",
      "Training on epoch 53\n",
      "Training on epoch 54\n",
      "Training on epoch 55\n",
      "Training on epoch 56\n",
      "Training on epoch 57\n",
      "Training on epoch 58\n",
      "Training on epoch 59\n",
      "Training on epoch 60\n",
      "Training on epoch 61\n",
      "Training on epoch 62\n",
      "Training on epoch 63\n",
      "Training on epoch 64\n",
      "Training on epoch 65\n",
      "Training on epoch 66\n",
      "Training on epoch 67\n",
      "Training on epoch 68\n",
      "Training on epoch 69\n",
      "Training on epoch 70\n",
      "Training on epoch 71\n",
      "Training on epoch 72\n",
      "Training on epoch 73\n",
      "Training on epoch 74\n",
      "Training on epoch 75\n",
      "Training on epoch 76\n",
      "Training on epoch 77\n",
      "Training on epoch 78\n",
      "Training on epoch 79\n",
      "Training on epoch 80\n",
      "Training on epoch 81\n",
      "Training on epoch 82\n",
      "Training on epoch 83\n",
      "Training on epoch 84\n",
      "Training on epoch 85\n",
      "Training on epoch 86\n",
      "Training on epoch 87\n",
      "Training on epoch 88\n",
      "Training on epoch 89\n",
      "Training on epoch 90\n",
      "Training on epoch 91\n",
      "Training on epoch 92\n",
      "Training on epoch 93\n",
      "Training on epoch 94\n",
      "Training on epoch 95\n",
      "Training on epoch 96\n",
      "Training on epoch 97\n",
      "Training on epoch 98\n",
      "Training on epoch 99\n"
     ]
    }
   ],
   "source": [
    "##################\n",
    "#####Training#####\n",
    "##################\n",
    "\n",
    "opt = torch.optim.Adam(ourLSTM.parameters(), lr=.1)\n",
    "loss = torch.nn.CrossEntropyLoss()\n",
    "epochs = 100\n",
    "dataset = DataLoader(TensorDataset(tokenizedTweets, tokenizedLabels), batch_size=100)\n",
    "for i in range(epochs):\n",
    "    print(\"Training on epoch\", i)\n",
    "    for batchidx, (x, y) in enumerate(dataset):\n",
    "        opt.zero_grad()\n",
    "        outputs = ourLSTM(x)\n",
    "        lossVal = loss(outputs, y)\n",
    "        lossVal.backward()\n",
    "        opt.step()"
   ]
  },
  {
   "cell_type": "code",
   "execution_count": 20,
   "metadata": {
    "colab": {},
    "colab_type": "code",
    "id": "v9EKY6ihbUWf"
   },
   "outputs": [
    {
     "name": "stdout",
     "output_type": "stream",
     "text": [
      "Results for semeval_train_dev.txt\n",
      "Precision: 0.4525377760557923\n",
      "[[  7 245 127]\n",
      " [ 20 821 372]\n",
      " [ 18 631 340]]\n",
      "\n"
     ]
    },
    {
     "data": {
      "image/png": "[encoded data removed]",
      "text/plain": [
       "<Figure size 432x288 with 2 Axes>"
      ]
     },
     "metadata": {
      "needs_background": "light"
     },
     "output_type": "display_data"
    },
    {
     "data": {
      "image/png": "[encoded data removed]",
      "text/plain": [
       "<Figure size 432x288 with 2 Axes>"
      ]
     },
     "metadata": {
      "needs_background": "light"
     },
     "output_type": "display_data"
    },
    {
     "name": "stdout",
     "output_type": "stream",
     "text": [
      "Num Unknown Words: 31752\n"
     ]
    }
   ],
   "source": [
    "##################\n",
    "#####Predict######\n",
    "####Evaluation####\n",
    "##################\n",
    "import seaborn as sn\n",
    "from matplotlib import pyplot as plt\n",
    "\n",
    "%matplotlib inline\n",
    "\n",
    "\n",
    "\n",
    "#with torch.no_grad():\n",
    "#    predVal = ourLSTM(tokenizedTweets).argmax(dim=-1)\n",
    "\n",
    "#pres, conf = TS.validate(tokenizedLabels, predVal)\n",
    "#print(f'Results for Train Data:\\nPrecision: {pres}\\n{conf}\\n')\n",
    "\n",
    "\n",
    "filelist = [\"semeval_train_dev.txt\"]\n",
    "\n",
    "for file in filelist:\n",
    "    #Update file location here\n",
    "    tokTestTweets, tokTestLabels = TS.load_tweets(\"../twitter_sentiment/\" + file, twitterVoc)\n",
    "    with torch.no_grad():\n",
    "        predVal = ourLSTM(tokTestTweets).argmax(dim=-1)\n",
    "    pres, conf = TS.validate(tokTestLabels, predVal)\n",
    "    print(f'Results for {file}\\nPrecision: {pres}\\n{conf}\\n')\n",
    "    conf = conf.T\n",
    "    #Counts graph\n",
    "    sn.heatmap(conf, annot=True, xticklabels=[\"negative\", \"neutral\", \"positive\"], yticklabels=[\"negative\", \"neutral\", \"positive\"])\n",
    "    plt.show()\n",
    "    #Percentages graph\n",
    "    sn.heatmap(conf/conf.sum(1, keepdims=True), annot=True, xticklabels=[\"negative\", \"neutral\", \"positive\"], yticklabels=[\"negative\", \"neutral\", \"positive\"])\n",
    "    plt.show()\n",
    "\n",
    "\n",
    "print(\"Num Unknown Words:\", twitterVoc.unknown_count)\n"
   ]
  },
  {
   "cell_type": "code",
   "execution_count": null,
   "metadata": {},
   "outputs": [],
   "source": []
  },
  {
   "cell_type": "code",
   "execution_count": null,
   "metadata": {},
   "outputs": [],
   "source": []
  }
 ],
 "metadata": {
  "colab": {
   "authorship_tag": "ABX9TyNllmUTa+5Wg84oeCaaTJK1",
   "include_colab_link": true,
   "name": "faketweets.ipynb",
   "provenance": []
  },
  "kernelspec": {
   "display_name": "Python 3",
   "language": "python",
   "name": "python3"
  },
  "language_info": {
   "codemirror_mode": {
    "name": "ipython",
    "version": 3
   },
   "file_extension": ".py",
   "mimetype": "text/x-python",
   "name": "python",
   "nbconvert_exporter": "python",
   "pygments_lexer": "ipython3",
   "version": "3.7.2"
  }
 },
 "nbformat": 4,
 "nbformat_minor": 1
}

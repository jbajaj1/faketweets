{
 "cells": [
  {
   "cell_type": "markdown",
   "metadata": {
    "colab_type": "text",
    "id": "view-in-github"
   },
   "source": [
    "<a href=\"https://colab.research.google.com/github/jbajaj1/faketweets/blob/master/faketweets.ipynb\" target=\"_parent\"><img src=\"https://colab.research.google.com/assets/colab-badge.svg\" alt=\"Open In Colab\"/></a>"
   ]
  },
  {
   "cell_type": "code",
   "execution_count": 1,
   "metadata": {
    "colab": {},
    "colab_type": "code",
    "id": "di9uPiQKYhcT"
   },
   "outputs": [],
   "source": [
    "import torch\n",
    "from sklearn.metrics import confusion_matrix\n",
    "import numpy as np\n",
    "import pandas as pd\n",
    "import torch.nn as nn\n",
    "import torch.utils.data as data\n",
    "import handleTwitterSent as TS\n",
    "from torch.utils.data import TensorDataset, DataLoader"
   ]
  },
  {
   "cell_type": "code",
   "execution_count": 2,
   "metadata": {
    "colab": {
     "base_uri": "https://localhost:8080/",
     "height": 364
    },
    "colab_type": "code",
    "id": "tPK-9ygJZkgr",
    "outputId": "603490b2-e839-4130-e62d-dce64c87285c"
   },
   "outputs": [
    {
     "name": "stdout",
     "output_type": "stream",
     "text": [
      "beiber\n",
      "248\n",
      "25574\n"
     ]
    }
   ],
   "source": [
    "twitterVoc = TS.Vocab(\"twitter\")\n",
    "\n",
    "#Put proper location of file here\n",
    "tokenizedTweets, tokenizedLabels = TS.load_tweets(\"../twitter_sentiment/semeval_train_trimmed.txt\", Voc=twitterVoc, initVoc=True)\n",
    "\n",
    "print(twitterVoc.to_word(4))\n",
    "print(twitterVoc.to_index(\"this\"))\n",
    "\n",
    "print(twitterVoc.num_words)"
   ]
  },
  {
   "cell_type": "code",
   "execution_count": 3,
   "metadata": {
    "colab": {},
    "colab_type": "code",
    "id": "eBC48S6qa65d"
   },
   "outputs": [
    {
     "name": "stdout",
     "output_type": "stream",
     "text": [
      "Loading 16_16_1_0.5.model\n",
      "Loaded 16_16_1_0.5.model\n",
      "<class 'torch.Tensor'>\n",
      "Loading 16_32_1_0.5.model\n",
      "Loaded 16_32_1_0.5.model\n",
      "<class 'torch.Tensor'>\n",
      "Loading 32_16_1_0.5.model\n",
      "Loaded 32_16_1_0.5.model\n",
      "<class 'torch.Tensor'>\n",
      "Loading 32_32_1_0.5.model\n",
      "Loaded 32_32_1_0.5.model\n",
      "<class 'torch.Tensor'>\n"
     ]
    }
   ],
   "source": [
    "from os import listdir\n",
    "from os.path import isfile, join\n",
    "\n",
    "emb_list = [16, 32, 64, 128]\n",
    "hid_list = [16, 32, 64, 128]\n",
    "num_layers = [1,2,4]\n",
    "dropout = [0, .1, .2, .3, .4, .5]\n",
    "completed_models = [f for f in listdir(\"./models/\") if isfile(join(\"./models/\", f)) and \".model\" in f]\n",
    "emb_list = [16, 32]\n",
    "hid_list = [16,32]\n",
    "num_layers = [1]\n",
    "dropout = [.5]\n",
    "##################\n",
    "#####Training#####\n",
    "##################\n",
    "#(vocab_size, embedding_size, hidden_size, num_layers=2, dropout=0.1)\n",
    "highPrec = (0, None, None, None)\n",
    "results_prec = []\n",
    "for emb in emb_list:\n",
    "    for hid in hid_list:\n",
    "        for l in num_layers:\n",
    "            for d in dropout:\n",
    "                ourLSTM = TS.LSTM(twitterVoc.num_words, emb, hid, l, d)      \n",
    "                if f'{emb}_{hid}_{l}_{d}.model' not in completed_models:\n",
    "                    print(f'Training {emb}_{hid}_{l}_{d}.model')\n",
    "                    opt = torch.optim.Adam(ourLSTM.parameters(), lr=.1)\n",
    "                    loss = torch.nn.CrossEntropyLoss()\n",
    "                    epochs = 30\n",
    "                    dataset = DataLoader(TensorDataset(tokenizedTweets, tokenizedLabels), batch_size=100)\n",
    "                    for i in range(epochs):\n",
    "                        print(\"Training on epoch\", i)\n",
    "                        for batchidx, (x, y) in enumerate(dataset):\n",
    "                            opt.zero_grad()\n",
    "                            outputs = ourLSTM(x)\n",
    "                            lossVal = loss(outputs, y)\n",
    "                            lossVal.backward()\n",
    "                            opt.step()\n",
    "                    \n",
    "                    torch.save(ourLSTM.state_dict(), f'./models/{emb}_{hid}_{l}_{d}.model')\n",
    "                \n",
    "                else:\n",
    "                    print(f'Loading {emb}_{hid}_{l}_{d}.model')\n",
    "                    ourLSTM.load_state_dict(torch.load(f'./models/{emb}_{hid}_{l}_{d}.model'))\n",
    "                    ourLSTM.eval()\n",
    "                    print(f'Loaded {emb}_{hid}_{l}_{d}.model')\n",
    "                \n",
    "                \n",
    "                \n",
    "                ##################\n",
    "                #####Predict######\n",
    "                ####Evaluation####\n",
    "                ##################\n",
    "\n",
    "                file = \"semeval_train_dev.txt\"\n",
    "                \n",
    "                tokTestTweets, tokTestLabels = TS.load_tweets(\"../twitter_sentiment/\" + file, twitterVoc)\n",
    "                with torch.no_grad():\n",
    "                    predVal = ourLSTM(tokTestTweets).argmax(dim=-1)\n",
    "                prec, conf, neg_F1, pos_F1, F1 = TS.validate(tokTestLabels, predVal)\n",
    "                results_prec.append(f'Precision with emb_size[{emb}], hid_size[{hid}], layers[{l}], and dropout[{d}]: {prec}')\n",
    "                if prec > highPrec[0]:\n",
    "                    highPrec = (prec, conf, len(results_prec) - 1, f'./models/{emb}_{hid}_{l}_{d}.model', neg_F1, pos_F1, F1)\n",
    "                    \n"
   ]
  },
  {
   "cell_type": "code",
   "execution_count": 4,
   "metadata": {
    "colab": {},
    "colab_type": "code",
    "id": "thQWrw52bRS3"
   },
   "outputs": [
    {
     "name": "stdout",
     "output_type": "stream",
     "text": [
      "Precision with emb_size[16], hid_size[16], layers[1], and dropout[0.5]: 0.5141418055017435\n",
      "Precision with emb_size[16], hid_size[32], layers[1], and dropout[0.5]: 0.6272762495156916\n",
      "Precision with emb_size[32], hid_size[16], layers[1], and dropout[0.5]: 0.5249903138318481\n",
      "Precision with emb_size[32], hid_size[32], layers[1], and dropout[0.5]: 0.6110034870205346\n",
      "The best performer:\n",
      "Accuracy: Precision with emb_size[16], hid_size[32], layers[1], and dropout[0.5]: 0.6272762495156916\n",
      "F1: 0.6184249342373741\n",
      "NegF1: 0.34525660964230176\n",
      "PosF1: 0.6296883254094031\n",
      "Here are the heatmaps\n",
      "\n"
     ]
    },
    {
     "data": {
      "image/png": "[encoded data removed]",
      "text/plain": [
       "<Figure size 432x288 with 2 Axes>"
      ]
     },
     "metadata": {
      "needs_background": "light"
     },
     "output_type": "display_data"
    },
    {
     "data": {
      "image/png": "[encoded data removed]",
      "text/plain": [
       "<Figure size 432x288 with 2 Axes>"
      ]
     },
     "metadata": {
      "needs_background": "light"
     },
     "output_type": "display_data"
    }
   ],
   "source": [
    "for r in results_prec:\n",
    "    print(r)\n",
    "print(f'The best performer:\\nAccuracy: {results_prec[highPrec[2]]}\\nF1: {highPrec[6]}\\nNegF1: {highPrec[4]}\\nPosF1: {highPrec[5]}\\nHere are the heatmaps\\n')\n",
    "\n",
    "import seaborn as sn\n",
    "from matplotlib import pyplot as plt\n",
    "\n",
    "%matplotlib inline\n",
    "\n",
    "conf = highPrec[1].T\n",
    "#Counts graph\n",
    "sn.heatmap(conf, annot=True, xticklabels=[\"negative\", \"neutral\", \"positive\"], yticklabels=[\"negative\", \"neutral\", \"positive\"])\n",
    "plt.show()\n",
    "#Percentages graph\n",
    "sn.heatmap(conf/conf.sum(1, keepdims=True), annot=True, xticklabels=[\"negative\", \"neutral\", \"positive\"], yticklabels=[\"negative\", \"neutral\", \"positive\"])\n",
    "plt.show()\n"
   ]
  },
  {
   "cell_type": "code",
   "execution_count": 5,
   "metadata": {
    "colab": {},
    "colab_type": "code",
    "id": "v9EKY6ihbUWf"
   },
   "outputs": [
    {
     "name": "stdout",
     "output_type": "stream",
     "text": [
      "Num Unknown Words: 31752\n"
     ]
    }
   ],
   "source": [
    "\n",
    "\n",
    "print(\"Num Unknown Words:\", twitterVoc.unknown_count)\n"
   ]
  },
  {
   "cell_type": "code",
   "execution_count": null,
   "metadata": {},
   "outputs": [],
   "source": []
  },
  {
   "cell_type": "code",
   "execution_count": null,
   "metadata": {},
   "outputs": [],
   "source": []
  }
 ],
 "metadata": {
  "colab": {
   "authorship_tag": "ABX9TyNllmUTa+5Wg84oeCaaTJK1",
   "include_colab_link": true,
   "name": "faketweets.ipynb",
   "provenance": []
  },
  "kernelspec": {
   "display_name": "Python 3",
   "language": "python",
   "name": "python3"
  },
  "language_info": {
   "codemirror_mode": {
    "name": "ipython",
    "version": 3
   },
   "file_extension": ".py",
   "mimetype": "text/x-python",
   "name": "python",
   "nbconvert_exporter": "python",
   "pygments_lexer": "ipython3",
   "version": "3.7.2"
  }
 },
 "nbformat": 4,
 "nbformat_minor": 1
}

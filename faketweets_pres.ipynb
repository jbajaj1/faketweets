{
 "cells": [
  {
   "cell_type": "markdown",
   "metadata": {
    "colab_type": "text",
    "id": "view-in-github"
   },
   "source": [
    "<a href=\"https://colab.research.google.com/github/jbajaj1/faketweets/blob/master/faketweets.ipynb\" target=\"_parent\"><img src=\"https://colab.research.google.com/assets/colab-badge.svg\" alt=\"Open In Colab\"/></a>"
   ]
  },
  {
   "cell_type": "code",
   "execution_count": 2,
   "metadata": {
    "colab": {},
    "colab_type": "code",
    "id": "di9uPiQKYhcT"
   },
   "outputs": [
    {
     "name": "stderr",
     "output_type": "stream",
     "text": [
      "Using TensorFlow backend.\n"
     ]
    }
   ],
   "source": [
    "import torch\n",
    "from sklearn.metrics import confusion_matrix\n",
    "import numpy as np\n",
    "import pandas as pd\n",
    "import torch.nn as nn\n",
    "import torch.utils.data as data\n",
    "import handleTwitterSent as TS\n",
    "from torch.utils.data import TensorDataset, DataLoader"
   ]
  },
  {
   "cell_type": "code",
   "execution_count": 5,
   "metadata": {
    "colab": {
     "base_uri": "https://localhost:8080/",
     "height": 364
    },
    "colab_type": "code",
    "id": "tPK-9ygJZkgr",
    "outputId": "603490b2-e839-4130-e62d-dce64c87285c"
   },
   "outputs": [
    {
     "name": "stdout",
     "output_type": "stream",
     "text": [
      "gas\n",
      "82\n",
      "28255\n"
     ]
    }
   ],
   "source": [
    "twitterVoc = TS.Vocab(\"twitter\")\n",
    "\n",
    "#Put proper location of file here\n",
    "tokenizedTweets, tokenizedLabels, weights = TS.load_tweets(\"./data/semeval_train.txt\", Voc=twitterVoc, initVoc=True)\n",
    "\n",
    "print(twitterVoc.to_word(4))\n",
    "print(twitterVoc.to_index(\"this\"))\n",
    "\n",
    "print(twitterVoc.num_words)"
   ]
  },
  {
   "cell_type": "code",
   "execution_count": 14,
   "metadata": {
    "colab": {},
    "colab_type": "code",
    "id": "eBC48S6qa65d"
   },
   "outputs": [
    {
     "name": "stdout",
     "output_type": "stream",
     "text": [
      "Loading 64_64_1_0.1.model\n",
      "Loaded 64_64_1_0.1.model\n"
     ]
    }
   ],
   "source": [
    "from os import listdir\n",
    "from os.path import isfile, join\n",
    "from keras.utils import Progbar\n",
    "\n",
    "\n",
    "emb_list = [64]\n",
    "hid_list = [64]\n",
    "num_layers = [1]\n",
    "dropout = [.1]\n",
    "\n",
    "completed_models = [f for f in listdir(\"./models/\") if isfile(join(\"./models/\", f)) and \".model\" in f]\n",
    "#completed_models = []\n",
    "##################\n",
    "#####Training#####\n",
    "##################\n",
    "#(vocab_size, embedding_size, hidden_size, num_layers=2, dropout=0.1)\n",
    "highPrec = (0, None, None, None)\n",
    "results_prec = []\n",
    "for emb in emb_list:\n",
    "    for hid in hid_list:\n",
    "        for l in num_layers:\n",
    "            for d in dropout:\n",
    "                ourLSTM = TS.LSTM(twitterVoc.num_words, emb, hid, l, d)      \n",
    "                if f'{emb}_{hid}_{l}_{d}.model' not in completed_models:\n",
    "                    print(f'Training {emb}_{hid}_{l}_{d}.model')\n",
    "                    #print(f'{emb}_{hid}_{l}_{d}.model')\n",
    "                    \n",
    "                    \n",
    "                    opt = torch.optim.Adam(ourLSTM.parameters(), lr=.1)\n",
    "                    epochs = 30\n",
    "                    dataset = DataLoader(TensorDataset(tokenizedTweets, tokenizedLabels, weights), batch_size=100)\n",
    "                    loss_fn = torch.nn.CrossEntropyLoss(reduction=\"none\")\n",
    "                    ourLSTM.train()\n",
    "                    for i in range(epochs):\n",
    "                        p = Progbar(len(dataset))\n",
    "                        for batchidx, (x, y, w) in enumerate(dataset):\n",
    "                            opt.zero_grad()\n",
    "                            outputs = ourLSTM(x)\n",
    "                            lossVal = loss_fn(outputs, y) *w\n",
    "                            lossVal = lossVal.mean()\n",
    "                            stateful_metrics = []\n",
    "                            stateful_metrics.append((f\"Train Loss on epoch {i}\", lossVal.item()))\n",
    "                            lossVal.backward()\n",
    "                            opt.step()\n",
    "                            p.add(1, stateful_metrics)\n",
    "                    \n",
    "                    torch.save(ourLSTM.state_dict(), f'./models/{emb}_{hid}_{l}_{d}.model')\n",
    "                \n",
    "                else:\n",
    "                    ourLSTM = TS.LSTM(twitterVoc.num_words, emb, hid, l, d)      \n",
    "                    \n",
    "                    print(f'Loading {emb}_{hid}_{l}_{d}.model')\n",
    "                    ourLSTM.load_state_dict(torch.load(f'./models/{emb}_{hid}_{l}_{d}.model'))\n",
    "                    ourLSTM.eval()\n",
    "                    print(f'Loaded {emb}_{hid}_{l}_{d}.model')\n",
    "                \n",
    "                \n",
    "                \n",
    "                ##################\n",
    "                #####Predict######\n",
    "                ####Evaluation####\n",
    "                ##################\n",
    "                #file = \"semeval_train_dev.txt\"\n",
    "                files = \"Twitter2016_raw.txt\", \n",
    "                tokTestTweets, tokTestLabels, _ = TS.load_tweets(\"./data/\" + file, twitterVoc)\n",
    "                with torch.no_grad():\n",
    "                    predVal = ourLSTM(tokTestTweets).argmax(dim=-1)\n",
    "                prec, conf, neg_F1, pos_F1, F1 = TS.validate(tokTestLabels, predVal)\n",
    "                results_prec.append(f'LSTM F1 with emb_size[{emb}], hid_size[{hid}], layers[{l}], and dropout[{d}]: {F1}. Prec: {prec}, pos_F1 {pos_F1}, neg_F1 {neg_F1}')\n",
    "                if prec > highPrec[0]:\n",
    "                    highPrec = (F1, conf, len(results_prec) - 1, f'./models/{emb}_{hid}_{l}_{d}.model', prec, pos_F1, neg_F1)\n",
    "                    \n"
   ]
  },
  {
   "cell_type": "code",
   "execution_count": 62,
   "metadata": {
    "colab": {},
    "colab_type": "code",
    "id": "thQWrw52bRS3"
   },
   "outputs": [
    {
     "name": "stdout",
     "output_type": "stream",
     "text": [
      "F1 with emb_size[64], hid_size[64], layers[1], and dropout[0.1]: 0.5055778949938674. Prec: 0.5039988367020504, pos_F1 0.4525571725571726, neg_F1 0.33490265937142133\n",
      "The best F1 performer:\n",
      "F1 with emb_size[64], hid_size[64], layers[1], and dropout[0.1]: 0.5055778949938674. Prec: 0.5039988367020504, pos_F1 0.4525571725571726, neg_F1 0.33490265937142133\n",
      "Here are the heatmaps\n",
      "\n"
     ]
    },
    {
     "data": {
      "image/png": "[encoded data removed]",
      "text/plain": [
       "<Figure size 432x288 with 2 Axes>"
      ]
     },
     "metadata": {
      "needs_background": "light"
     },
     "output_type": "display_data"
    }
   ],
   "source": [
    "for r in results_prec:\n",
    "    print(r)\n",
    "print(f'The best F1 performer:\\n{results_prec[highPrec[2]]}\\nHere are the heatmaps\\n')\n",
    "\n",
    "import seaborn as sn\n",
    "from matplotlib import pyplot as plt\n",
    "\n",
    "%matplotlib inline\n",
    "fig, ax = plt.subplots()\n",
    "\n",
    "conf = highPrec[1].T\n",
    "#Counts graph\n",
    "#sn.heatmap(conf, annot=True, xticklabels=[\"negative\", \"neutral\", \"positive\"], yticklabels=[\"negative\", \"neutral\", \"positive\"])\n",
    "#plt.show()\n",
    "#Percentages graph\n",
    "ax.set_title(\"Confusion Matrix for LSTM\")\n",
    "sn.heatmap(conf/conf.sum(1, keepdims=True), annot=True, xticklabels=[\"negative\", \"neutral\", \"positive\"], yticklabels=[\"negative\", \"neutral\", \"positive\"])\n",
    "plt.show()\n"
   ]
  },
  {
   "cell_type": "code",
   "execution_count": 50,
   "metadata": {
    "colab": {},
    "colab_type": "code",
    "id": "v9EKY6ihbUWf"
   },
   "outputs": [
    {
     "name": "stdout",
     "output_type": "stream",
     "text": [
      "Training CNN_128_[32, 32]_[1]_0.1.model\n",
      "87/87 [==============================] - 3s 37ms/step - Train Loss on epoch 0: 1.0917\n",
      "87/87 [==============================] - 3s 35ms/step - Train Loss on epoch 1: 1.0438\n",
      "87/87 [==============================] - 3s 35ms/step - Train Loss on epoch 2: 0.9575\n",
      "87/87 [==============================] - 3s 36ms/step - Train Loss on epoch 3: 0.8488\n",
      "87/87 [==============================] - 3s 36ms/step - Train Loss on epoch 4: 0.7249\n",
      "87/87 [==============================] - 3s 36ms/step - Train Loss on epoch 5: 0.6109\n",
      "87/87 [==============================] - 3s 36ms/step - Train Loss on epoch 6: 0.5130\n",
      "87/87 [==============================] - 3s 38ms/step - Train Loss on epoch 7: 0.4176\n",
      "87/87 [==============================] - 3s 36ms/step - Train Loss on epoch 8: 0.3462\n",
      "87/87 [==============================] - 3s 36ms/step - Train Loss on epoch 9: 0.2804\n",
      "87/87 [==============================] - 3s 37ms/step - Train Loss on epoch 10: 0.2335\n",
      "87/87 [==============================] - 3s 36ms/step - Train Loss on epoch 11: 0.1931\n",
      "87/87 [==============================] - 3s 36ms/step - Train Loss on epoch 12: 0.1597\n",
      "87/87 [==============================] - 3s 37ms/step - Train Loss on epoch 13: 0.1332\n",
      "87/87 [==============================] - 3s 37ms/step - Train Loss on epoch 14: 0.1157\n",
      "87/87 [==============================] - 3s 36ms/step - Train Loss on epoch 15: 0.1005\n",
      "87/87 [==============================] - 3s 35ms/step - Train Loss on epoch 16: 0.0813\n",
      "87/87 [==============================] - 3s 36ms/step - Train Loss on epoch 17: 0.0749\n",
      "87/87 [==============================] - 3s 37ms/step - Train Loss on epoch 18: 0.0646\n",
      "87/87 [==============================] - 3s 36ms/step - Train Loss on epoch 19: 0.0559\n",
      "87/87 [==============================] - 3s 36ms/step - Train Loss on epoch 20: 0.0533\n",
      "87/87 [==============================] - 3s 36ms/step - Train Loss on epoch 21: 0.0461\n",
      "87/87 [==============================] - 3s 36ms/step - Train Loss on epoch 22: 0.0415\n",
      "87/87 [==============================] - 3s 37ms/step - Train Loss on epoch 23: 0.0374\n",
      "87/87 [==============================] - 3s 39ms/step - Train Loss on epoch 24: 0.0346\n",
      "87/87 [==============================] - 3s 38ms/step - Train Loss on epoch 25: 0.0324\n",
      "87/87 [==============================] - 3s 38ms/step - Train Loss on epoch 26: 0.0282\n",
      "87/87 [==============================] - 3s 36ms/step - Train Loss on epoch 27: 0.0248\n",
      "87/87 [==============================] - 3s 36ms/step - Train Loss on epoch 28: 0.0264\n",
      "87/87 [==============================] - 3s 37ms/step - Train Loss on epoch 29: 0.0238\n",
      "CNN F1 with emb_size[128], hid_size[[32, 32]], kernel[[1]], and dropout[0.1]: 0.47414089634188594. Prec: 0.4762250981532645, pos_F1 0.5397347106467896, neg_F1 0.36147995359030555\n"
     ]
    }
   ],
   "source": [
    "\n",
    "#CNN\tTRUE\t30\t128\t[32|32]\tN/A\t1\t0.1\t100\t0.001\n",
    "emb = 128\n",
    "hid = [32,32]\n",
    "kernel = [1]\n",
    "dropout = .1\n",
    "\n",
    "##################\n",
    "#####Training#####\n",
    "##################\n",
    "\n",
    "ourCNN = TS.CNN(twitterVoc.num_words, emb, hid, kernel, dropout)      \n",
    "print(f'Training CNN_{emb}_{hid}_{kernel}_{dropout}.model')\n",
    "\n",
    "opt = torch.optim.Adam(ourCNN.parameters(), lr=.001)\n",
    "epochs = 30\n",
    "dataset = DataLoader(TensorDataset(tokenizedTweets, tokenizedLabels, weights), batch_size=100)\n",
    "loss_fn = torch.nn.CrossEntropyLoss(reduction=\"none\")\n",
    "ourCNN.train()\n",
    "for i in range(epochs):\n",
    "    p = Progbar(len(dataset))\n",
    "    for batchidx, (x, y, w) in enumerate(dataset):\n",
    "        opt.zero_grad()\n",
    "        outputs = ourCNN(x)\n",
    "        lossVal = loss_fn(outputs, y) *w\n",
    "        lossVal = lossVal.mean()\n",
    "        stateful_metrics = []\n",
    "        stateful_metrics.append((f\"Train Loss on epoch {i}\", lossVal.item()))\n",
    "        lossVal.backward()\n",
    "        opt.step()\n",
    "        p.add(1, stateful_metrics)\n",
    "    \n",
    "    torch.save(ourCNN.state_dict(), f'./models/CNN_{emb}_{hid}_{kernel}_{dropout}.model')\n",
    "\n",
    "#else:\n",
    "#    ourLSTM = TS.LSTM(twitterVoc.num_words, emb, hid, l, d)      \n",
    "#\n",
    "#    print(f'Loading {emb}_{hid}_{l}_{d}.model')\n",
    "#    ourLSTM.load_state_dict(torch.load(f'./models/{emb}_{hid}_{l}_{d}.model'))\n",
    "#    ourLSTM.eval()\n",
    "#    print(f'Loaded {emb}_{hid}_{l}_{d}.model')\n",
    "                \n",
    "                \n",
    "                \n",
    "##################\n",
    "#####Predict######\n",
    "####Evaluation####\n",
    "##################\n",
    "#file = \"semeval_train_dev.txt\"\n",
    "files = \"Twitter2016_raw.txt\", \n",
    "tokTestTweets, tokTestLabels, _ = TS.load_tweets(\"./data/\" + file, twitterVoc)\n",
    "with torch.no_grad():\n",
    "    predVal = ourCNN(tokTestTweets).argmax(dim=-1)\n",
    "prec, conf, neg_F1, pos_F1, F1 = TS.validate(tokTestLabels, predVal)\n",
    "print(f'CNN F1 with emb_size[{emb}], hid_size[{hid}], kernel[{kernel}], and dropout[{dropout}]: {F1}. Prec: {prec}, pos_F1 {pos_F1}, neg_F1 {neg_F1}')\n",
    "highPrecCNN = (F1, conf, f'./models/CNN_{emb}_{hid}_{l}_{d}.model', prec, pos_F1, neg_F1)\n",
    "                    \n",
    "\n",
    "\n",
    "\n",
    "\n",
    "\n",
    "\n"
   ]
  },
  {
   "cell_type": "code",
   "execution_count": 66,
   "metadata": {},
   "outputs": [
    {
     "data": {
      "image/png": "[encoded data removed]",
      "text/plain": [
       "<Figure size 432x288 with 2 Axes>"
      ]
     },
     "metadata": {
      "needs_background": "light"
     },
     "output_type": "display_data"
    }
   ],
   "source": [
    "conf = highPrec[1].T\n",
    "#Counts graph\n",
    "#sn.heatmap(conf, annot=True, xticklabels=[\"negative\", \"neutral\", \"positive\"], yticklabels=[\"negative\", \"neutral\", \"positive\"])\n",
    "#plt.show()\n",
    "#Percentages graph\n",
    "fig, ax = plt.subplots()\n",
    "\n",
    "sn.heatmap(conf/conf.sum(1, keepdims=True), annot=True, xticklabels=[\"negative\", \"neutral\", \"positive\"], yticklabels=[\"negative\", \"neutral\", \"positive\"])\n",
    "ax.set_title(\"Confusion Matrix for CNN\")\n",
    "\n",
    "plt.show()\n",
    "\n",
    "cnn_model_values = [highPrecCNN[0], highPrecCNN[3], highPrecCNN[4], highPrecCNN[5]]"
   ]
  },
  {
   "cell_type": "code",
   "execution_count": 18,
   "metadata": {},
   "outputs": [
    {
     "name": "stdout",
     "output_type": "stream",
     "text": [
      "F1: 0.4202603796366269\n",
      "Accuracy: 0.43197130531724104\n",
      "pos_F1: 0.36882743760100556\n",
      "neg_F1: 0.3103256846780163\n"
     ]
    }
   ],
   "source": [
    "import bow_baseline as BoW\n",
    "\n",
    "trainX_bow, trainY_bow = BoW.load_data('./data/semeval_train_trimmed.txt')\n",
    "#testX_bow, testY_bow= BoW.load_data('../data/semeval_train_dev.txt')\n",
    "testX_bow, testY_bow= BoW.load_data('./data/Twitter2016_raw.txt')\n",
    "\n",
    "classifier = BoW.Classifier()\n",
    "\n",
    "classifier.train(trainX_bow, trainY_bow)\n",
    "outputs = classifier.classify(testX_bow)\n",
    "\n",
    "\n",
    "prec_bow, conf_bow, neg_F1_bow, pos_F1_bow, F1_bow = BoW.validate(outputs, testY_bow)\n",
    "\n",
    "print(f'F1: {F1_bow}\\nAccuracy: {prec_bow}\\npos_F1: {pos_F1_bow}\\nneg_F1: {neg_F1_bow}')\n"
   ]
  },
  {
   "cell_type": "code",
   "execution_count": 65,
   "metadata": {},
   "outputs": [
    {
     "data": {
      "image/png": "[encoded data removed]",
      "text/plain": [
       "<Figure size 432x288 with 2 Axes>"
      ]
     },
     "metadata": {
      "needs_background": "light"
     },
     "output_type": "display_data"
    }
   ],
   "source": [
    "conf_bow = conf_bow.T\n",
    "#Counts graph\n",
    "#sn.heatmap(conf_bow, annot=True, xticklabels=[\"negative\", \"neutral\", \"positive\"], yticklabels=[\"negative\", \"neutral\", \"positive\"])\n",
    "#plt.show()\n",
    "#Percentages graph\n",
    "fig, ax = plt.subplots()\n",
    "\n",
    "ax.set_title(\"Confusion Matrix for Baseline BoW\")\n",
    "sn.heatmap(conf_bow/conf_bow.sum(1, keepdims=True), annot=True, xticklabels=[\"negative\", \"neutral\", \"positive\"], yticklabels=[\"negative\", \"neutral\", \"positive\"])\n",
    "plt.show()"
   ]
  },
  {
   "cell_type": "code",
   "execution_count": 71,
   "metadata": {},
   "outputs": [
    {
     "name": "stdout",
     "output_type": "stream",
     "text": [
      "Model: [F1, Accuracy, Pos_F1, Neg_F1]\n",
      "CNN_Values: [0.47414089634188594, 0.4762250981532645, 0.5397347106467896, 0.36147995359030555]\n",
      "LSTM_Values: [0.5055778949938674, 0.5039988367020504, 0.4525571725571726, 0.33490265937142133]\n",
      "Baseline BoW_Values: [0.43197130531724104, 0.4202603796366269, 0.36882743760100556, 0.3103256846780163]\n"
     ]
    }
   ],
   "source": [
    "\n",
    "lstm_model_values = [highPrec[0], highPrec[4], highPrec[5], highPrec[6]]\n",
    "bow_model_values = [prec_bow, F1_bow, pos_F1_bow, neg_F1_bow]\n",
    "x_score_tics = ['F1', 'Accuracy', 'Pos_F1', 'Neg_F1']\n",
    "print(f'Model: [F1, Accuracy, Pos_F1, Neg_F1]\\nCNN_Values: {cnn_model_values}\\nLSTM_Values: {lstm_model_values}\\nBaseline BoW_Values: {bow_model_values}')"
   ]
  },
  {
   "cell_type": "code",
   "execution_count": 72,
   "metadata": {},
   "outputs": [
    {
     "data": {
      "image/png": "[encoded data removed]",
      "text/plain": [
       "<Figure size 432x288 with 1 Axes>"
      ]
     },
     "metadata": {
      "needs_background": "light"
     },
     "output_type": "display_data"
    },
    {
     "data": {
      "image/png": "[encoded data removed]",
      "text/plain": [
       "<Figure size 432x288 with 1 Axes>"
      ]
     },
     "metadata": {
      "needs_background": "light"
     },
     "output_type": "display_data"
    },
    {
     "data": {
      "image/png": "[encoded data removed]",
      "text/plain": [
       "<Figure size 432x288 with 1 Axes>"
      ]
     },
     "metadata": {
      "needs_background": "light"
     },
     "output_type": "display_data"
    }
   ],
   "source": [
    "\n",
    "\n",
    "x = np.arange(len(x_score_tics))  # the label locations\n",
    "width = 0.35  # the width of the bars\n",
    "\n",
    "fig, ax = plt.subplots()\n",
    "rects1 = ax.bar(x - width/2, bow_model_values, width, label='BoW_Baseline')\n",
    "rects2 = ax.bar(x + width/2, lstm_model_values, width, label='LSTM')\n",
    "\n",
    "\n",
    "# Add some text for labels, title and custom x-axis tick labels, etc.\n",
    "ax.set_ylabel('Percent')\n",
    "ax.set_title('Twitter 2016 Model Scoring BoW vs LSTM')\n",
    "ax.set_xticks(x)\n",
    "ax.set_xticklabels(x_score_tics)\n",
    "ax.legend()\n",
    "\n",
    "\n",
    "def autolabel(rects):\n",
    "    \"\"\"Attach a text label above each bar in *rects*, displaying its height.\"\"\"\n",
    "    for rect in rects:\n",
    "        height = rect.get_height()\n",
    "        \n",
    "        height = float(f'{height:.2f}')\n",
    "        ax.annotate('{}'.format(height),\n",
    "                    xy=(rect.get_x() + rect.get_width() / 2, height),\n",
    "                    xytext=(0, 1),  # 1 points vertical offset\n",
    "                    textcoords=\"offset points\",\n",
    "                    ha='center', va='bottom')\n",
    "\n",
    "autolabel(rects1)\n",
    "autolabel(rects2)\n",
    "\n",
    "fig.tight_layout()\n",
    "\n",
    "\n",
    "plt.show()\n",
    "\n",
    "\n",
    "\n",
    "x = np.arange(len(x_score_tics))  # the label locations\n",
    "width = 0.35  # the width of the bars\n",
    "fig, ax = plt.subplots()\n",
    "ax.set_ylabel('Percent')\n",
    "ax.set_title('Twitter 2016 Model Scoring BoW versus CNN')\n",
    "ax.set_xticks(x)\n",
    "ax.set_xticklabels(x_score_tics)\n",
    "\n",
    "rects1 = ax.bar(x - width/2, bow_model_values, width, label='BoW_Baseline')\n",
    "rects2 = ax.bar(x + width/2, cnn_model_values, width, label='CNN')\n",
    "\n",
    "fig.tight_layout()\n",
    "\n",
    "autolabel(rects1)\n",
    "\n",
    "autolabel(rects2)\n",
    "plt.show()\n",
    "\n",
    "\n",
    "\n",
    "x = np.arange(len(x_score_tics))  # the label locations\n",
    "width = 0.35  # the width of the bars\n",
    "fig, ax = plt.subplots()\n",
    "ax.set_ylabel('Percent')\n",
    "ax.set_title('Twitter 2016 Model Scoring LSTM vs CNN')\n",
    "ax.set_xticks(x)\n",
    "ax.set_xticklabels(x_score_tics)\n",
    "\n",
    "rects1 = ax.bar(x - width/2, lstm_model_values, width, label='LSTM')\n",
    "rects2 = ax.bar(x + width/2, cnn_model_values, width, label='CNN')\n",
    "fig.tight_layout()\n",
    "\n",
    "autolabel(rects1)\n",
    "\n",
    "autolabel(rects2)\n",
    "plt.show()\n"
   ]
  },
  {
   "cell_type": "code",
   "execution_count": null,
   "metadata": {},
   "outputs": [],
   "source": []
  }
 ],
 "metadata": {
  "colab": {
   "authorship_tag": "ABX9TyNllmUTa+5Wg84oeCaaTJK1",
   "include_colab_link": true,
   "name": "faketweets.ipynb",
   "provenance": []
  },
  "kernelspec": {
   "display_name": "Python 3",
   "language": "python",
   "name": "python3"
  },
  "language_info": {
   "codemirror_mode": {
    "name": "ipython",
    "version": 3
   },
   "file_extension": ".py",
   "mimetype": "text/x-python",
   "name": "python",
   "nbconvert_exporter": "python",
   "pygments_lexer": "ipython3",
   "version": "3.7.3"
  }
 },
 "nbformat": 4,
 "nbformat_minor": 1
}
